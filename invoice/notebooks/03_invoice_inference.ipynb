{
 "cells": [
  {
   "cell_type": "markdown",
   "id": "a08190f6",
   "metadata": {},
   "source": [
    "# LayoutLM Inference: Invoice Field Extraction\n",
    "\n",
    "This script performs inference using a fine-tuned `LayoutLM` model to extract structured fields from scanned invoices.\n",
    "\n",
    "---\n",
    "\n",
    "### Workflow:\n",
    "- Load trained model from checkpoint\n",
    "- OCR invoice using `pytesseract`\n",
    "- Tokenize OCR words + bounding boxes\n",
    "- Predict labels (`B-COMPANY`, `B-DATE`, etc.)\n",
    "- Return a dictionary of extracted fields\n",
    "\n",
    "> Designed for use with trained LayoutLM model on the SROIE invoice dataset\n"
   ]
  },
  {
   "cell_type": "code",
   "execution_count": 4,
   "id": "db22e33c",
   "metadata": {},
   "outputs": [],
   "source": [
    "# Import necessary libraries\n",
    "import os\n",
    "import torch\n",
    "import pytesseract\n",
    "from PIL import Image\n",
    "from transformers import LayoutLMTokenizerFast, LayoutLMForTokenClassification\n",
    "from pytesseract import Output"
   ]
  },
  {
   "cell_type": "code",
   "execution_count": 13,
   "id": "b5c949cc",
   "metadata": {},
   "outputs": [],
   "source": [
    "model = LayoutLMForTokenClassification.from_pretrained(\n",
    "    \"../models/layoutlm_invoice\",\n",
    "    local_files_only=True,\n",
    "    use_safetensors=True\n",
    ")\n",
    "\n",
    "tokenizer = LayoutLMTokenizerFast.from_pretrained(\n",
    "    \"../models/layoutlm_invoice\",\n",
    "    local_files_only=True\n",
    ")\n"
   ]
  },
  {
   "cell_type": "code",
   "execution_count": 14,
   "id": "d2d90665",
   "metadata": {},
   "outputs": [
    {
     "name": "stdout",
     "output_type": "stream",
     "text": [
      "Extracted Fields:\n",
      "B-COMPANY: OGN Jalan Dinar U3/G, Date PM\n",
      "B-DATE: 4:37:37 Scissors Discount Rounding Adjustment: 0.00 TOTAL : GOODS Come\n"
     ]
    }
   ],
   "source": [
    "# Label map\n",
    "id2label = model.config.id2label\n",
    "\n",
    "# Normalize boxes to 0–1000 scale\n",
    "def normalize_box(box, width, height):\n",
    "    return [\n",
    "        int(box[0] * 1000 / width),\n",
    "        int(box[1] * 1000 / height),\n",
    "        int(box[2] * 1000 / width),\n",
    "        int(box[3] * 1000 / height),\n",
    "    ]\n",
    "\n",
    "# Inference function\n",
    "def predict_invoice_fields(image_path):\n",
    "    image = Image.open(image_path).convert(\"RGB\")\n",
    "    width, height = image.size\n",
    "\n",
    "    ocr_data = pytesseract.image_to_data(image, output_type=Output.DICT)\n",
    "\n",
    "    words = []\n",
    "    boxes = []\n",
    "\n",
    "    for i in range(len(ocr_data[\"text\"])):\n",
    "        word = ocr_data[\"text\"][i].strip()\n",
    "        if word == \"\":\n",
    "            continue\n",
    "        x, y, w, h = ocr_data[\"left\"][i], ocr_data[\"top\"][i], ocr_data[\"width\"][i], ocr_data[\"height\"][i]\n",
    "        words.append(word)\n",
    "        boxes.append(normalize_box([x, y, x + w, y + h], width, height))\n",
    "\n",
    "    # Tokenize\n",
    "    encoding = tokenizer(\n",
    "        words,\n",
    "        is_split_into_words=True,\n",
    "        return_tensors=\"pt\",\n",
    "        truncation=True,\n",
    "        padding=\"max_length\",\n",
    "        max_length=512\n",
    "    )\n",
    "\n",
    "    input_ids = encoding[\"input_ids\"]\n",
    "    attention_mask = encoding[\"attention_mask\"]\n",
    "    bbox = boxes + [[0, 0, 0, 0]] * (512 - len(boxes))\n",
    "    encoding[\"bbox\"] = torch.tensor([bbox])\n",
    "\n",
    "    # Predict\n",
    "    model.eval()\n",
    "    with torch.no_grad():\n",
    "        outputs = model(\n",
    "            input_ids=input_ids,\n",
    "            attention_mask=attention_mask,\n",
    "            bbox=encoding[\"bbox\"]\n",
    "        )\n",
    "    predictions = torch.argmax(outputs.logits, dim=2)\n",
    "\n",
    "    labels = predictions[0].tolist()\n",
    "    tokens = tokenizer.convert_ids_to_tokens(input_ids[0])\n",
    "    extracted = {}\n",
    "\n",
    "    for token, label_idx, word in zip(tokens, labels, words):\n",
    "        label = id2label[label_idx]\n",
    "        if label != 'O' and not token.startswith(\"##\"):\n",
    "            extracted.setdefault(label, []).append(word)\n",
    "\n",
    "    # Combine multi-token fields\n",
    "    final_output = {k: \" \".join(v) for k, v in extracted.items()}\n",
    "    return final_output\n",
    "\n",
    "# Example usage\n",
    "image_path = \"../data/sroie/images/X51008123604.jpg\"  # Change to your test image\n",
    "result = predict_invoice_fields(image_path)\n",
    "print(\"Extracted Fields:\")\n",
    "for k, v in result.items():\n",
    "    print(f\"{k}: {v}\")\n"
   ]
  }
 ],
 "metadata": {
  "kernelspec": {
   "display_name": "Python 3",
   "language": "python",
   "name": "python3"
  },
  "language_info": {
   "codemirror_mode": {
    "name": "ipython",
    "version": 3
   },
   "file_extension": ".py",
   "mimetype": "text/x-python",
   "name": "python",
   "nbconvert_exporter": "python",
   "pygments_lexer": "ipython3",
   "version": "3.10.0"
  }
 },
 "nbformat": 4,
 "nbformat_minor": 5
}
